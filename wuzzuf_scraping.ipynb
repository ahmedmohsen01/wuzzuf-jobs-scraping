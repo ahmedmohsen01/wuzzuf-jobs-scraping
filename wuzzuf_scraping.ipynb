{
 "cells": [
  {
   "cell_type": "code",
   "execution_count": 26,
   "metadata": {},
   "outputs": [],
   "source": [
    "import csv\n",
    "import requests\n",
    "from bs4 import BeautifulSoup\n",
    "from selenium import webdriver\n",
    "from selenium.webdriver.chrome.service import Service\n",
    "from selenium.webdriver.common.by import By\n",
    "from selenium.webdriver.chrome.options import Options\n",
    "\n",
    "def get_jobs(pages):\n",
    "    # Open the CSV file once\n",
    "    with open('jobs.csv', 'w', newline='', encoding='utf-8') as f:\n",
    "        writer = csv.DictWriter(f, fieldnames=['job title', 'job link', 'job location', 'salary', 'skills required', 'company name'])\n",
    "        writer.writeheader()\n",
    "\n",
    "        \n",
    "        chrome_options = Options()\n",
    "        chrome_options.add_argument('--headless')\n",
    "        driver = webdriver.Chrome(options=chrome_options)\n",
    "\n",
    "        for page in pages:\n",
    "            response = requests.get(page)\n",
    "            soup = BeautifulSoup(response.content, 'html.parser')\n",
    "\n",
    "            all_jobs = soup.findAll('div', attrs={'class': \"css-pkv5jc\"})\n",
    "\n",
    "            for job in all_jobs:\n",
    "                try:\n",
    "                    job_title = job.find('h2').find('a').getText()\n",
    "                    word = 'data'\n",
    "                    if word not in job_title.lower():\n",
    "                        continue\n",
    "                    \n",
    "                    job_link = job.find('h2').find('a').get('href')\n",
    "                    job_location = job.find('span', attrs={'class': \"css-5wys0k\"}).getText()\n",
    "\n",
    "                    driver.get(job_link)\n",
    "                    soup2 = BeautifulSoup(driver.page_source, 'html.parser')\n",
    "\n",
    "                \n",
    "                    required_skills_elements = soup2.find_all('span', attrs={'class': 'css-tt12j1 e12tgh591'})\n",
    "                    skills_required = [element.get_text() for element in required_skills_elements] if required_skills_elements else 'N/A'\n",
    "\n",
    "                    salary_elements = soup2.findAll('span', attrs={'class': 'css-4xky9y'})\n",
    "                    salary = salary_elements[3].getText() if len(salary_elements) > 3 else 'NOT FOUND'\n",
    "\n",
    "                    company_name = job.find('div', attrs={'class': 'css-d7j1kk'}).find('a', attrs={'class': 'css-17s97q8'}).getText().split(\"-\")[0].strip()\n",
    "\n",
    "                    writer.writerow({\n",
    "                        'job title': job_title, \n",
    "                        'job link': job_link, \n",
    "                        'job location': job_location, \n",
    "                        'salary': salary, \n",
    "                        'skills required': skills_required, \n",
    "                        'company name': company_name\n",
    "                    })\n",
    "\n",
    "                except Exception as e:\n",
    "                    \n",
    "                    print(f\"Error processing job: {e}\")\n",
    "        \n",
    "        driver.quit() \n",
    "\n",
    "\n",
    "pages = [f\"https://wuzzuf.net/search/jobs/?a=navbl&q=data%20science%20jobs&start={i}\" for i in range(0, 55)]\n",
    "\n",
    "get_jobs(pages)\n"
   ]
  },
  {
   "cell_type": "code",
   "execution_count": 32,
   "metadata": {},
   "outputs": [],
   "source": [
    "import pandas as pd\n",
    "jobsss = pd.read_csv('jobs.csv')\n",
    "jobsss\n",
    "\n",
    "jobsss.to_csv('data_science_jobs.csv')\n"
   ]
  },
  {
   "cell_type": "code",
   "execution_count": null,
   "metadata": {},
   "outputs": [],
   "source": []
  }
 ],
 "metadata": {
  "kernelspec": {
   "display_name": "Python 3",
   "language": "python",
   "name": "python3"
  },
  "language_info": {
   "codemirror_mode": {
    "name": "ipython",
    "version": 3
   },
   "file_extension": ".py",
   "mimetype": "text/x-python",
   "name": "python",
   "nbconvert_exporter": "python",
   "pygments_lexer": "ipython3",
   "version": "3.11.9"
  }
 },
 "nbformat": 4,
 "nbformat_minor": 2
}
